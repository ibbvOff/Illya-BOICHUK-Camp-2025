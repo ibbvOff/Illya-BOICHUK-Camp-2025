{
 "cells": [
  {
   "cell_type": "markdown",
   "metadata": {},
   "source": [
    "# Illya-BOICHUK-Camp-2025"
   ]
  },
  {
   "cell_type": "markdown",
   "metadata": {},
   "source": [
    "## Homework lesson 2: Optional\n",
    "\n",
    "### Task about sum and product\n",
    "\n",
    "Note: This is optional task. However it is also evaluated and so you will get extra points to final score. Thus, we encourage you to solve it.\n",
    "\n",
    "        There are two whole numbers:\n",
    "        1 < a,b <100\n",
    "\n",
    "        One scientist(\"Sum\") get provided with sum of numbers,\n",
    "        another  (\"Prod\") get provided with product of numbers. \n",
    "        Both scientists know that numbers 1 < a,b <100.\n",
    "\n",
    "        Determine the numbers being based on the following dialog: \n",
    "            Prod: I don't know the numbers;\n",
    "            Sum: I know it;\n",
    "            Prod: then I know the numbers; \n",
    "            Sum: then I know the numbers too.\n"
   ]
  },
  {
   "cell_type": "markdown",
   "metadata": {},
   "source": [
    "## Answer"
   ]
  },
  {
   "cell_type": "markdown",
   "metadata": {},
   "source": [
    "### Function 1"
   ]
  },
  {
   "cell_type": "markdown",
   "metadata": {},
   "source": [
    "По умові задачі зрозуміло, що пара чисел мають давати неоднозначний добуток, тобто пара множників для добутку немає бути унікальною"
   ]
  },
  {
   "cell_type": "code",
   "execution_count": 7,
   "metadata": {},
   "outputs": [],
   "source": [
    "def find_pairs_and_products():\n",
    "    pairs = []\n",
    "    products = {}\n",
    "    for a in range(2, 100):\n",
    "        for b in range(a, 100): \n",
    "            pair = (a, b)\n",
    "            product = a * b\n",
    "            pairs.append(pair)\n",
    "            if product not in products:\n",
    "                products[product] = []\n",
    "            products[product].append(pair)\n",
    "    return pairs, products"
   ]
  },
  {
   "cell_type": "markdown",
   "metadata": {},
   "source": [
    "Створюю всі можливі пари та групує їх за добутками в словнику, де ключ - добуток, а значення - список пар.\n",
    "Також відсієються дублювання. Наприклад: (3,4) і (4,3) - залишиться тільки одна пара"
   ]
  },
  {
   "cell_type": "markdown",
   "metadata": {},
   "source": [
    "### Function 2"
   ]
  },
  {
   "cell_type": "code",
   "execution_count": 8,
   "metadata": {},
   "outputs": [],
   "source": [
    "def find_special_sums(pairs, products):\n",
    "    sums = {}\n",
    "    for a, b in pairs:\n",
    "        total = a + b\n",
    "        if total not in sums:\n",
    "            sums[total] = []\n",
    "        sums[total].append((a, b))\n",
    "    \n",
    "    special_sums = []\n",
    "    for total, pair_list in sums.items():\n",
    "        all_products = True\n",
    "        for a, b in pair_list:\n",
    "            product = a * b\n",
    "            if len(products[product]) == 1:\n",
    "                all_products = False\n",
    "                break\n",
    "        if all_products:\n",
    "            special_sums.append(total)\n",
    "    return special_sums"
   ]
  },
  {
   "cell_type": "markdown",
   "metadata": {},
   "source": [
    "Знаходжу суми для яких усі можливі пари мають неоднозначні добутки, для кожної суми перевіряємо всі її пари, та для кожної пари знаходжу добуток. Перевіряю чи добуток унікальний через словник `products`, якщо добуток має декілька пар, додаю його до словника `special_sums`"
   ]
  },
  {
   "cell_type": "markdown",
   "metadata": {},
   "source": [
    "### Function 3"
   ]
  },
  {
   "cell_type": "code",
   "execution_count": 9,
   "metadata": {},
   "outputs": [],
   "source": [
    "def find_unique_products(products, special_sums):\n",
    "    unique_products = []\n",
    "    for product, pair_list in products.items():\n",
    "        if len(pair_list) > 1:\n",
    "            pairs_special = 0\n",
    "            for a, b in pair_list:\n",
    "                if (a + b) in special_sums:\n",
    "                    pairs_special += 1\n",
    "            if pairs_special == 1:\n",
    "                unique_products.append(product)\n",
    "    return unique_products"
   ]
  },
  {
   "cell_type": "markdown",
   "metadata": {},
   "source": [
    "Перебираю всі добутки та перевіряю чи добуток має кілька пар, потім для кожної пари перевіряю чи її сума належить до `special_sums`"
   ]
  },
  {
   "cell_type": "markdown",
   "metadata": {},
   "source": [
    "### Function 4"
   ]
  },
  {
   "cell_type": "code",
   "execution_count": 10,
   "metadata": {},
   "outputs": [],
   "source": [
    "def find_final_pair(pairs, special_sums, unique_products):\n",
    "    for a, b in pairs:\n",
    "        total = a + b\n",
    "        product = a * b\n",
    "        if total in special_sums and product in unique_products:\n",
    "            sum_pairs = [(x, y) for x, y in pairs if x + y == total]\n",
    "            valid_pairs = [(x, y) for x, y in sum_pairs if x * y in unique_products]\n",
    "            if len(valid_pairs) == 1:\n",
    "                return (a, b)\n",
    "    return None"
   ]
  },
  {
   "cell_type": "markdown",
   "metadata": {},
   "source": [
    "Знаходжу усі пари `sum_pairs` із тією самою сумою `𝑎+𝑏`, cеред них вибираю `valid_pairs` - пари, чиї добутки є в `unique_products`. Якщо рівно одна пара має добуток у `unique_products`, повертаю цю пару "
   ]
  },
  {
   "cell_type": "markdown",
   "metadata": {},
   "source": [
    "### Main part"
   ]
  },
  {
   "cell_type": "code",
   "execution_count": 11,
   "metadata": {},
   "outputs": [
    {
     "name": "stdout",
     "output_type": "stream",
     "text": [
      "Числа: 4 і 13\n"
     ]
    }
   ],
   "source": [
    "pairs, products = find_pairs_and_products()\n",
    "special_sums = find_special_sums(pairs, products)\n",
    "unique_products = find_unique_products(products, special_sums)\n",
    "final_pair = find_final_pair(pairs, special_sums, unique_products)\n",
    "\n",
    "if final_pair:\n",
    "    x, y = final_pair\n",
    "    print(f\"Числа: {x} і {y}\")\n",
    "else:\n",
    "    print(\"Незнаю чисел\")"
   ]
  },
  {
   "cell_type": "markdown",
   "metadata": {},
   "source": [
    "Запускаю по черзі всі функції, та виводжу результат"
   ]
  }
 ],
 "metadata": {
  "kernelspec": {
   "display_name": "Python 3",
   "language": "python",
   "name": "python3"
  },
  "language_info": {
   "codemirror_mode": {
    "name": "ipython",
    "version": 3
   },
   "file_extension": ".py",
   "mimetype": "text/x-python",
   "name": "python",
   "nbconvert_exporter": "python",
   "pygments_lexer": "ipython3",
   "version": "3.12.3"
  }
 },
 "nbformat": 4,
 "nbformat_minor": 2
}
