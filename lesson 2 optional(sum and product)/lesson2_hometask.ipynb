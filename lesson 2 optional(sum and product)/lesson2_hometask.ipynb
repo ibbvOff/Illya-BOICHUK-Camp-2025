{
 "cells": [
  {
   "cell_type": "markdown",
   "metadata": {},
   "source": [
    "# Illya-BOICHUK-Camp-2025"
   ]
  },
  {
   "cell_type": "markdown",
   "metadata": {},
   "source": [
    "## Homework lesson 2: Optional\n",
    "\n",
    "### Task about sum and product\n",
    "\n",
    "Note: This is optional task. However it is also evaluated and so you will get extra points to final score. Thus, we encourage you to solve it.\n",
    "\n",
    "        There are two whole numbers:\n",
    "        1 < a,b <100\n",
    "\n",
    "        One scientist(\"Sum\") get provided with sum of numbers,\n",
    "        another  (\"Prod\") get provided with product of numbers. \n",
    "        Both scientists know that numbers 1 < a,b <100.\n",
    "\n",
    "        Determine the numbers being based on the following dialog: \n",
    "            Prod: I don't know the numbers;\n",
    "            Sum: I know it;\n",
    "            Prod: then I know the numbers; \n",
    "            Sum: then I know the numbers too.\n"
   ]
  },
  {
   "cell_type": "markdown",
   "metadata": {},
   "source": [
    "## Answer"
   ]
  },
  {
   "cell_type": "code",
   "execution_count": 3,
   "metadata": {},
   "outputs": [
    {
     "name": "stdout",
     "output_type": "stream",
     "text": [
      "Числа: 4 і 13\n"
     ]
    }
   ],
   "source": [
    "def find_pairs_and_products():\n",
    "    pairs = []\n",
    "    products = {}\n",
    "    for a in range(2, 100):\n",
    "        for b in range(a, 100): \n",
    "            pair = (a, b)\n",
    "            product = a * b\n",
    "            pairs.append(pair)\n",
    "            if product not in products:\n",
    "                products[product] = []\n",
    "            products[product].append(pair)\n",
    "    return pairs, products\n",
    "\n",
    "def find_special_sums(pairs, products):\n",
    "    sums = {}\n",
    "    for a, b in pairs:\n",
    "        total = a + b\n",
    "        if total not in sums:\n",
    "            sums[total] = []\n",
    "        sums[total].append((a, b))\n",
    "    \n",
    "    special_sums = []\n",
    "    for total, pair_list in sums.items():\n",
    "        all_products_have_multiple_pairs = True\n",
    "        for a, b in pair_list:\n",
    "            product = a * b\n",
    "            if len(products[product]) == 1:\n",
    "                all_products_have_multiple_pairs = False\n",
    "                break\n",
    "        if all_products_have_multiple_pairs:\n",
    "            special_sums.append(total)\n",
    "    return special_sums\n",
    "\n",
    "def find_unique_products(products, special_sums):\n",
    "    unique_products = []\n",
    "    for product, pair_list in products.items():\n",
    "        if len(pair_list) > 1:\n",
    "            pairs_with_special_sum = 0\n",
    "            for a, b in pair_list:\n",
    "                if (a + b) in special_sums:\n",
    "                    pairs_with_special_sum += 1\n",
    "            if pairs_with_special_sum == 1:\n",
    "                unique_products.append(product)\n",
    "    return unique_products\n",
    "\n",
    "def find_final_pair(pairs, special_sums, unique_products):\n",
    "    for a, b in pairs:\n",
    "        total = a + b\n",
    "        product = a * b\n",
    "        if total in special_sums and product in unique_products:\n",
    "            sum_pairs = [(x, y) for x, y in pairs if x + y == total]\n",
    "            valid_pairs = [(x, y) for x, y in sum_pairs if x * y in unique_products]\n",
    "            if len(valid_pairs) == 1:\n",
    "                return (a, b)\n",
    "    return None\n",
    "\n",
    "pairs, products = find_pairs_and_products()\n",
    "special_sums = find_special_sums(pairs, products)\n",
    "unique_products = find_unique_products(products, special_sums)\n",
    "final_pair = find_final_pair(pairs, special_sums, unique_products)\n",
    "\n",
    "if final_pair:\n",
    "    x, y = final_pair\n",
    "    print(f\"Числа: {x} і {y}\")\n",
    "else:\n",
    "    print(\"Не вдалося знайти чисел\")"
   ]
  }
 ],
 "metadata": {
  "kernelspec": {
   "display_name": "Python 3",
   "language": "python",
   "name": "python3"
  },
  "language_info": {
   "codemirror_mode": {
    "name": "ipython",
    "version": 3
   },
   "file_extension": ".py",
   "mimetype": "text/x-python",
   "name": "python",
   "nbconvert_exporter": "python",
   "pygments_lexer": "ipython3",
   "version": "3.12.3"
  }
 },
 "nbformat": 4,
 "nbformat_minor": 2
}
