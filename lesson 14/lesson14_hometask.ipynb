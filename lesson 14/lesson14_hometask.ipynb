{
 "cells": [
  {
   "cell_type": "markdown",
   "metadata": {},
   "source": [
    "# Illya-BOICHUK-Camp-2025"
   ]
  },
  {
   "cell_type": "markdown",
   "metadata": {},
   "source": [
    "## Answer"
   ]
  },
  {
   "cell_type": "code",
   "execution_count": null,
   "metadata": {},
   "outputs": [],
   "source": [
    "import numpy as np\n",
    "import pandas as pd\n",
    "from matplotlib import pyplot as plt\n",
    "from collections import Counter\n",
    "from sklearn.ensemble import IsolationForest\n",
    "from sklearn.covariance import EllipticEnvelope\n",
    "from sklearn.neighbors import LocalOutlierFactor\n",
    "from sklearn.cluster import DBSCAN\n",
    "from sklearn.svm import OneClassSVM\n",
    "from sklearn.preprocessing import StandardScaler\n",
    "from sklearn.metrics import classification_report, confusion_matrix, precision_score, recall_score, f1_score"
   ]
  },
  {
   "cell_type": "code",
   "execution_count": 28,
   "metadata": {},
   "outputs": [
    {
     "name": "stdout",
     "output_type": "stream",
     "text": [
      "Dataset size: (275663, 7)\n",
      "Number of classes: Class\n",
      "0    275190\n",
      "1       473\n",
      "Name: count, dtype: int64\n",
      "Share of fraudulent transactions: 0.0017\n"
     ]
    }
   ],
   "source": [
    "df = pd.read_csv('data/creditcard.csv').drop(['Time'], axis=1)\n",
    "df = df.drop_duplicates().reset_index(drop=True)\n",
    "features = ['V10', 'V14', 'V4', 'V12', 'V11', 'V17']\n",
    "df_selected = df[features + ['Class']].copy()\n",
    "print(f\"Dataset size: {df_selected.shape}\")\n",
    "print(f\"Number of classes: {df_selected['Class'].value_counts()}\")\n",
    "outlier_fraction = len(df[df['Class'] == 1])/float(len(df[df['Class'] == 0]))\n",
    "print(f\"Share of fraudulent transactions: {outlier_fraction:.4f}\")"
   ]
  },
  {
   "cell_type": "code",
   "execution_count": 29,
   "metadata": {},
   "outputs": [
    {
     "name": "stdout",
     "output_type": "stream",
     "text": [
      "X shape: (275663, 6)\n",
      "y_true shape: (275663,)\n"
     ]
    }
   ],
   "source": [
    "X = df_selected[features].copy()\n",
    "y_true = df_selected['Class'].copy()\n",
    "scaler = StandardScaler()\n",
    "X_scaled = scaler.fit_transform(X)\n",
    "print(\"X shape:\", X.shape)\n",
    "print(\"y_true shape:\", y_true.shape)\n",
    "results = []"
   ]
  },
  {
   "cell_type": "code",
   "execution_count": 30,
   "metadata": {},
   "outputs": [
    {
     "name": "stdout",
     "output_type": "stream",
     "text": [
      "Classification Report:\n",
      "              precision    recall  f1-score   support\n",
      "\n",
      "   non-fraud       1.00      1.00      1.00    275190\n",
      "       fraud       0.55      0.63      0.59       473\n",
      "\n",
      "    accuracy                           1.00    275663\n",
      "   macro avg       0.78      0.82      0.79    275663\n",
      "weighted avg       1.00      1.00      1.00    275663\n",
      "\n",
      "\n",
      "Confusion Matrix:\n",
      "                pred_non-fraud  pred_fraud\n",
      "true_non-fraud          274949         241\n",
      "true_fraud                 174         299\n",
      "IQR Method - Precision: 0.5537, Recall: 0.6321, F1: 0.5903\n"
     ]
    }
   ],
   "source": [
    "def IQR_method(df, n, features, k=1.5):\n",
    "    outlier_list = []\n",
    "    for column in features:\n",
    "        Q1 = np.percentile(df[column], 25)\n",
    "        Q3 = np.percentile(df[column], 75)\n",
    "        IQR = Q3 - Q1\n",
    "        outlier_step = k * IQR\n",
    "        outlier_list_column = df[(df[column] < Q1 - outlier_step) | \n",
    "                               (df[column] > Q3 + outlier_step)].index\n",
    "        outlier_list.extend(outlier_list_column)\n",
    "    \n",
    "    outlier_list = Counter(outlier_list)\n",
    "    multiple_outliers = list(k for k, v in outlier_list.items() if v > n)\n",
    "    return multiple_outliers\n",
    "\n",
    "outlier_indices = IQR_method(df_selected, n=1, features=features, k=4.5)\n",
    "y_pred_iqr = np.zeros(len(df_selected))\n",
    "y_pred_iqr[outlier_indices] = 1\n",
    "print(\"Classification Report:\")\n",
    "print(classification_report(y_true, y_pred_iqr, target_names=['non-fraud', 'fraud']))\n",
    "\n",
    "cm_iqr = confusion_matrix(y_true, y_pred_iqr)\n",
    "cm_df_iqr = pd.DataFrame(cm_iqr,\n",
    "                    index=['true_non-fraud', 'true_fraud'],\n",
    "                    columns=['pred_non-fraud', 'pred_fraud'])\n",
    "print(\"\\nConfusion Matrix:\")\n",
    "print(cm_df_iqr)\n",
    "precision_iqr = precision_score(y_true, y_pred_iqr)\n",
    "recall_iqr = recall_score(y_true, y_pred_iqr)\n",
    "f1_iqr = f1_score(y_true, y_pred_iqr)\n",
    "results.append({\n",
    "    'method': 'IQR Method',\n",
    "    'precision': precision_iqr,\n",
    "    'recall': recall_iqr,\n",
    "    'f1_score': f1_iqr\n",
    "})\n",
    "print(f\"IQR Method - Precision: {precision_iqr:.4f}, Recall: {recall_iqr:.4f}, F1: {f1_iqr:.4f}\")"
   ]
  },
  {
   "cell_type": "code",
   "execution_count": 31,
   "metadata": {},
   "outputs": [
    {
     "name": "stdout",
     "output_type": "stream",
     "text": [
      "Classification Report:\n",
      "              precision    recall  f1-score   support\n",
      "\n",
      "   non-fraud       1.00      1.00      1.00    275190\n",
      "       fraud       0.70      0.70      0.70       473\n",
      "\n",
      "    accuracy                           1.00    275663\n",
      "   macro avg       0.85      0.85      0.85    275663\n",
      "weighted avg       1.00      1.00      1.00    275663\n",
      "\n",
      "\n",
      "Confusion Matrix:\n",
      "                pred_non-fraud  pred_fraud\n",
      "true_non-fraud          275046         144\n",
      "true_fraud                 143         330\n",
      "Isolation Forest - Precision: 0.6962, Recall: 0.6977, F1: 0.6969\n"
     ]
    }
   ],
   "source": [
    "iso_forest = IsolationForest(\n",
    "    contamination=outlier_fraction,\n",
    "    random_state=42,\n",
    "    n_estimators=100\n",
    ")\n",
    "\n",
    "y_pred_iso = iso_forest.fit_predict(X_scaled)\n",
    "y_pred_iso = np.where(y_pred_iso == -1, 1, 0)\n",
    "print(\"Classification Report:\")\n",
    "print(classification_report(y_true, y_pred_iso, target_names=['non-fraud', 'fraud']))\n",
    "\n",
    "cm_iso = confusion_matrix(y_true, y_pred_iso)\n",
    "cm_df_iso = pd.DataFrame(cm_iso,\n",
    "                    index=['true_non-fraud', 'true_fraud'],\n",
    "                    columns=['pred_non-fraud', 'pred_fraud'])\n",
    "print(\"\\nConfusion Matrix:\")\n",
    "print(cm_df_iso)\n",
    "precision_iso = precision_score(y_true, y_pred_iso)\n",
    "recall_iso = recall_score(y_true, y_pred_iso)\n",
    "f1_iso = f1_score(y_true, y_pred_iso)\n",
    "\n",
    "results.append({\n",
    "    'method': 'Isolation Forest',\n",
    "    'precision': precision_iso,\n",
    "    'recall': recall_iso,\n",
    "    'f1_score': f1_iso\n",
    "})\n",
    "\n",
    "print(f\"Isolation Forest - Precision: {precision_iso:.4f}, Recall: {recall_iso:.4f}, F1: {f1_iso:.4f}\")"
   ]
  },
  {
   "cell_type": "code",
   "execution_count": 32,
   "metadata": {},
   "outputs": [
    {
     "name": "stdout",
     "output_type": "stream",
     "text": [
      "Classification Report:\n",
      "              precision    recall  f1-score   support\n",
      "\n",
      "   non-fraud       1.00      1.00      1.00    275190\n",
      "       fraud       0.64      0.64      0.64       473\n",
      "\n",
      "    accuracy                           1.00    275663\n",
      "   macro avg       0.82      0.82      0.82    275663\n",
      "weighted avg       1.00      1.00      1.00    275663\n",
      "\n",
      "\n",
      "Confusion Matrix:\n",
      "                pred_non-fraud  pred_fraud\n",
      "true_non-fraud          275021         169\n",
      "true_fraud                 168         305\n",
      "Elliptic Envelope - Precision: 0.6435, Recall: 0.6448, F1: 0.6441\n"
     ]
    }
   ],
   "source": [
    "elliptic_env = EllipticEnvelope(\n",
    "    contamination=outlier_fraction,\n",
    "    random_state=42\n",
    ")\n",
    "y_pred_elliptic = elliptic_env.fit_predict(X_scaled)\n",
    "y_pred_elliptic = np.where(y_pred_elliptic == -1, 1, 0)\n",
    "print(\"Classification Report:\")\n",
    "print(classification_report(y_true, y_pred_elliptic, target_names=['non-fraud', 'fraud']))\n",
    "\n",
    "cm_elliptic = confusion_matrix(y_true, y_pred_elliptic)\n",
    "cm_df_elliptic = pd.DataFrame(cm_elliptic,\n",
    "                    index=['true_non-fraud', 'true_fraud'],\n",
    "                    columns=['pred_non-fraud', 'pred_fraud'])\n",
    "print(\"\\nConfusion Matrix:\")\n",
    "print(cm_df_elliptic)\n",
    "precision_elliptic = precision_score(y_true, y_pred_elliptic)\n",
    "recall_elliptic = recall_score(y_true, y_pred_elliptic)\n",
    "f1_elliptic = f1_score(y_true, y_pred_elliptic)\n",
    "results.append({\n",
    "    'method': 'Elliptic Envelope',\n",
    "    'precision': precision_elliptic,\n",
    "    'recall': recall_elliptic,\n",
    "    'f1_score': f1_elliptic\n",
    "})\n",
    "\n",
    "print(f\"Elliptic Envelope - Precision: {precision_elliptic:.4f}, Recall: {recall_elliptic:.4f}, F1: {f1_elliptic:.4f}\")\n"
   ]
  },
  {
   "cell_type": "code",
   "execution_count": 33,
   "metadata": {},
   "outputs": [
    {
     "name": "stdout",
     "output_type": "stream",
     "text": [
      "Classification Report:\n",
      "              precision    recall  f1-score   support\n",
      "\n",
      "   non-fraud       1.00      1.00      1.00    275190\n",
      "       fraud       0.00      0.00      0.00       473\n",
      "\n",
      "    accuracy                           1.00    275663\n",
      "   macro avg       0.50      0.50      0.50    275663\n",
      "weighted avg       1.00      1.00      1.00    275663\n",
      "\n",
      "\n",
      "Confusion Matrix:\n",
      "                pred_non-fraud  pred_fraud\n",
      "true_non-fraud          274716         474\n",
      "true_fraud                 473           0\n",
      "Local Outlier Factor - Precision: 0.0000, Recall: 0.0000, F1: 0.0000\n"
     ]
    }
   ],
   "source": [
    "lof = LocalOutlierFactor(\n",
    "    contamination=outlier_fraction,\n",
    "    n_neighbors=20\n",
    ")\n",
    "\n",
    "y_pred_lof = lof.fit_predict(X_scaled)\n",
    "y_pred_lof = np.where(y_pred_lof == -1, 1, 0)\n",
    "print(\"Classification Report:\")\n",
    "print(classification_report(y_true, y_pred_lof, target_names=['non-fraud', 'fraud']))\n",
    "cm_lof = confusion_matrix(y_true, y_pred_lof)\n",
    "cm_df_lof = pd.DataFrame(cm_lof,\n",
    "                    index=['true_non-fraud', 'true_fraud'],\n",
    "                    columns=['pred_non-fraud', 'pred_fraud'])\n",
    "print(\"\\nConfusion Matrix:\")\n",
    "print(cm_df_lof)\n",
    "precision_lof = precision_score(y_true, y_pred_lof)\n",
    "recall_lof = recall_score(y_true, y_pred_lof)\n",
    "f1_lof = f1_score(y_true, y_pred_lof)\n",
    "results.append({\n",
    "    'method': 'Local Outlier Factor',\n",
    "    'precision': precision_lof,\n",
    "    'recall': recall_lof,\n",
    "    'f1_score': f1_lof\n",
    "})\n",
    "print(f\"Local Outlier Factor - Precision: {precision_lof:.4f}, Recall: {recall_lof:.4f}, F1: {f1_lof:.4f}\")\n"
   ]
  },
  {
   "cell_type": "code",
   "execution_count": 34,
   "metadata": {},
   "outputs": [
    {
     "name": "stdout",
     "output_type": "stream",
     "text": [
      "Classification Report:\n",
      "              precision    recall  f1-score   support\n",
      "\n",
      "   non-fraud       1.00      1.00      1.00    275190\n",
      "       fraud       0.26      0.32      0.29       473\n",
      "\n",
      "    accuracy                           1.00    275663\n",
      "   macro avg       0.63      0.66      0.64    275663\n",
      "weighted avg       1.00      1.00      1.00    275663\n",
      "\n",
      "\n",
      "Confusion Matrix:\n",
      "                pred_non-fraud  pred_fraud\n",
      "true_non-fraud          274771         419\n",
      "true_fraud                 324         149\n",
      "One-Class SVM - Precision: 0.2623, Recall: 0.3150, F1: 0.2863\n"
     ]
    }
   ],
   "source": [
    "one_class_svm = OneClassSVM(\n",
    "    nu=outlier_fraction,\n",
    "    kernel=\"rbf\",\n",
    "    gamma=\"scale\"\n",
    ")\n",
    "\n",
    "y_pred_svm = one_class_svm.fit_predict(X_scaled)\n",
    "y_pred_svm = np.where(y_pred_svm == -1, 1, 0)\n",
    "print(\"Classification Report:\")\n",
    "print(classification_report(y_true, y_pred_svm, target_names=['non-fraud', 'fraud']))\n",
    "cm_svm = confusion_matrix(y_true, y_pred_svm)\n",
    "cm_df_svm = pd.DataFrame(cm_svm,\n",
    "                    index=['true_non-fraud', 'true_fraud'],\n",
    "                    columns=['pred_non-fraud', 'pred_fraud'])\n",
    "print(\"\\nConfusion Matrix:\")\n",
    "print(cm_df_svm)\n",
    "precision_svm = precision_score(y_true, y_pred_svm)\n",
    "recall_svm = recall_score(y_true, y_pred_svm)\n",
    "f1_svm = f1_score(y_true, y_pred_svm)\n",
    "results.append({\n",
    "    'method': 'One-Class SVM',\n",
    "    'precision': precision_svm,\n",
    "    'recall': recall_svm,\n",
    "    'f1_score': f1_svm\n",
    "})\n",
    "\n",
    "print(f\"One-Class SVM - Precision: {precision_svm:.4f}, Recall: {recall_svm:.4f}, F1: {f1_svm:.4f}\")\n"
   ]
  },
  {
   "cell_type": "code",
   "execution_count": 36,
   "metadata": {},
   "outputs": [
    {
     "name": "stdout",
     "output_type": "stream",
     "text": [
      "Number of clusters found: 20\n",
      "Number of anomalies (noise points): 18738\n",
      "Classification Report:\n",
      "              precision    recall  f1-score   support\n",
      "\n",
      "   non-fraud       1.00      0.93      0.97    275190\n",
      "       fraud       0.02      0.90      0.04       473\n",
      "\n",
      "    accuracy                           0.93    275663\n",
      "   macro avg       0.51      0.92      0.50    275663\n",
      "weighted avg       1.00      0.93      0.96    275663\n",
      "\n",
      "\n",
      "Confusion Matrix:\n",
      "                pred_non-fraud  pred_fraud\n",
      "true_non-fraud          256878       18312\n",
      "true_fraud                  47         426\n",
      "DBSCAN - Precision: 0.0227, Recall: 0.9006, F1: 0.0443\n"
     ]
    }
   ],
   "source": [
    "dbscan = DBSCAN(eps=0.6, min_samples=12)\n",
    "clusters = dbscan.fit_predict(X_scaled)\n",
    "y_pred_dbscan = np.where(clusters == -1, 1, 0)\n",
    "print(f\"Number of clusters found: {len(set(clusters)) - (1 if -1 in clusters else 0)}\")\n",
    "print(f\"Number of anomalies (noise points): {sum(clusters == -1)}\")\n",
    "print(\"Classification Report:\")\n",
    "print(classification_report(y_true, y_pred_dbscan, target_names=['non-fraud', 'fraud']))\n",
    "cm_dbscan = confusion_matrix(y_true, y_pred_dbscan)\n",
    "cm_df_dbscan = pd.DataFrame(cm_dbscan,\n",
    "                    index=['true_non-fraud', 'true_fraud'],\n",
    "                    columns=['pred_non-fraud', 'pred_fraud'])\n",
    "print(\"\\nConfusion Matrix:\")\n",
    "print(cm_df_dbscan)\n",
    "precision_dbscan = precision_score(y_true, y_pred_dbscan)\n",
    "recall_dbscan = recall_score(y_true, y_pred_dbscan)\n",
    "f1_dbscan = f1_score(y_true, y_pred_dbscan)\n",
    "results.append({\n",
    "    'method': 'DBSCAN',\n",
    "    'precision': precision_dbscan,\n",
    "    'recall': recall_dbscan,\n",
    "    'f1_score': f1_dbscan\n",
    "})\n",
    "\n",
    "print(f\"DBSCAN - Precision: {precision_dbscan:.4f}, Recall: {recall_dbscan:.4f}, F1: {f1_dbscan:.4f}\")\n"
   ]
  },
  {
   "cell_type": "code",
   "execution_count": 37,
   "metadata": {},
   "outputs": [
    {
     "name": "stdout",
     "output_type": "stream",
     "text": [
      "Summary table of results:\n",
      "                 method  precision  recall  f1_score\n",
      "0            IQR Method     0.5537  0.6321    0.5903\n",
      "1      Isolation Forest     0.6962  0.6977    0.6969\n",
      "2     Elliptic Envelope     0.6435  0.6448    0.6441\n",
      "3  Local Outlier Factor     0.0000  0.0000    0.0000\n",
      "4         One-Class SVM     0.2623  0.3150    0.2863\n",
      "5                DBSCAN     0.0227  0.9006    0.0443\n"
     ]
    },
    {
     "data": {
      "image/png": "[encoded data removed]",
      "text/plain": [
       "<Figure size 1800x600 with 3 Axes>"
      ]
     },
     "metadata": {},
     "output_type": "display_data"
    }
   ],
   "source": [
    "metrics_df = pd.DataFrame(results)\n",
    "print(\"Summary table of results:\")\n",
    "print(metrics_df.round(4))\n",
    "fig, axes = plt.subplots(1, 3, figsize=(18, 6))\n",
    "axes[0].bar(metrics_df['method'], metrics_df['precision'], color='skyblue')\n",
    "axes[0].set_title('Precision', fontsize=14)\n",
    "axes[0].set_ylabel('Score', fontsize=12)\n",
    "axes[0].tick_params(axis='x', rotation=45)\n",
    "axes[0].grid(True, alpha=0.3)\n",
    "axes[1].bar(metrics_df['method'], metrics_df['recall'], color='lightgreen')\n",
    "axes[1].set_title('Recall', fontsize=14)\n",
    "axes[1].set_ylabel('Score', fontsize=12)\n",
    "axes[1].tick_params(axis='x', rotation=45)\n",
    "axes[1].grid(True, alpha=0.3)\n",
    "axes[2].bar(metrics_df['method'], metrics_df['f1_score'], color='lightcoral')\n",
    "axes[2].set_title('F1-Score', fontsize=14)\n",
    "axes[2].set_ylabel('Score', fontsize=12)\n",
    "axes[2].tick_params(axis='x', rotation=45)\n",
    "axes[2].grid(True, alpha=0.3)\n",
    "\n",
    "plt.suptitle('Comparison of anomaly detection methods', fontsize=16)\n",
    "plt.tight_layout()\n",
    "plt.show()"
   ]
  },
  {
   "cell_type": "code",
   "execution_count": 39,
   "metadata": {},
   "outputs": [
    {
     "name": "stdout",
     "output_type": "stream",
     "text": [
      "BEST RESULTS:\n",
      "The best accuracy: Isolation Forest - 0.6962\n",
      "Best review: DBSCAN - 0.9006\n",
      "The best F1 score: Isolation Forest - 0.6969\n",
      "\n",
      "COMPARISON WITH THE BASIC IQR METHOD:\n",
      "\n",
      "Isolation Forest:\n",
      "  Precision: 0.6962 (+0.1425)\n",
      "  Recall: 0.6977 (+0.0655)\n",
      "  F1-score: 0.6969 (+0.1066)\n",
      "\n",
      "Elliptic Envelope:\n",
      "  Precision: 0.6435 (+0.0898)\n",
      "  Recall: 0.6448 (+0.0127)\n",
      "  F1-score: 0.6441 (+0.0538)\n",
      "\n",
      "Local Outlier Factor:\n",
      "  Precision: 0.0000 (-0.5537)\n",
      "  Recall: 0.0000 (-0.6321)\n",
      "  F1-score: 0.0000 (-0.5903)\n",
      "\n",
      "One-Class SVM:\n",
      "  Precision: 0.2623 (-0.2914)\n",
      "  Recall: 0.3150 (-0.3171)\n",
      "  F1-score: 0.2863 (-0.3041)\n",
      "\n",
      "DBSCAN:\n",
      "  Precision: 0.0227 (-0.5310)\n",
      "  Recall: 0.9006 (+0.2685)\n",
      "  F1-score: 0.0443 (-0.5460)\n"
     ]
    }
   ],
   "source": [
    "best_precision = metrics_df.loc[metrics_df['precision'].idxmax()]\n",
    "best_recall = metrics_df.loc[metrics_df['recall'].idxmax()]\n",
    "best_f1 = metrics_df.loc[metrics_df['f1_score'].idxmax()]\n",
    "print(f\"BEST RESULTS:\")\n",
    "print(f\"The best accuracy: {best_precision['method']} - {best_precision['precision']:.4f}\")\n",
    "print(f\"Best review: {best_recall['method']} - {best_recall['recall']:.4f}\")\n",
    "print(f\"The best F1 score: {best_f1['method']} - {best_f1['f1_score']:.4f}\")\n",
    "print(f\"\\nCOMPARISON WITH THE BASIC IQR METHOD:\")\n",
    "iqr_result = metrics_df[metrics_df['method'] == 'IQR Method'].iloc[0]\n",
    "\n",
    "for _, row in metrics_df.iterrows():\n",
    "    if row['method'] != 'IQR Method':\n",
    "        precision_diff = row['precision'] - iqr_result['precision']\n",
    "        recall_diff = row['recall'] - iqr_result['recall']\n",
    "        f1_diff = row['f1_score'] - iqr_result['f1_score']\n",
    "        print(f\"\\n{row['method']}:\")\n",
    "        print(f\"  Precision: {row['precision']:.4f} ({precision_diff:+.4f})\")\n",
    "        print(f\"  Recall: {row['recall']:.4f} ({recall_diff:+.4f})\")\n",
    "        print(f\"  F1-score: {row['f1_score']:.4f} ({f1_diff:+.4f})\")"
   ]
  }
 ],
 "metadata": {
  "kernelspec": {
   "display_name": "Python 3",
   "language": "python",
   "name": "python3"
  },
  "language_info": {
   "codemirror_mode": {
    "name": "ipython",
    "version": 3
   },
   "file_extension": ".py",
   "mimetype": "text/x-python",
   "name": "python",
   "nbconvert_exporter": "python",
   "pygments_lexer": "ipython3",
   "version": "3.12.3"
  }
 },
 "nbformat": 4,
 "nbformat_minor": 2
}
