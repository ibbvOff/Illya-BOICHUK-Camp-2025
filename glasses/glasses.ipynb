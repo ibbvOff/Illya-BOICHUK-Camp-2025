{
 "cells": [
  {
   "cell_type": "markdown",
   "id": "8fd61f16",
   "metadata": {},
   "source": [
    "# Illya-BOICHUK-Camp-2025"
   ]
  },
  {
   "cell_type": "markdown",
   "id": "8fb7715e",
   "metadata": {},
   "source": [
    "## Task condition"
   ]
  },
  {
   "cell_type": "markdown",
   "id": "a3076713",
   "metadata": {},
   "source": [
    "The essence of the formula is to find the number of attempts in which we can check the maximum number of floors, given that we have a limited number of glasses. "
   ]
  },
  {
   "cell_type": "markdown",
   "id": "f167ca88",
   "metadata": {},
   "source": [
    "## Answer"
   ]
  },
  {
   "cell_type": "code",
   "execution_count": 46,
   "id": "306e06fa",
   "metadata": {},
   "outputs": [
    {
     "name": "stdout",
     "output_type": "stream",
     "text": [
      "For 100 floors and 2 glasses: 14\n",
      "For 100 floors and 3 glasses: 9\n",
      "For 1000 floors and 5 glasses: 11\n"
     ]
    }
   ],
   "source": [
    "def max_floors(k, t):\n",
    "    return 0 if k == 0 or t == 0 else (t if k == 1 else max_floors(k - 1, t - 1) + max_floors(k, t - 1) + 1)\n",
    "\n",
    "def min_k(f, t):\n",
    "    k = 0\n",
    "    while max_floors(t, k) < f:\n",
    "        k += 1\n",
    "    return k\n",
    "\n",
    "print(\"For 100 floors and 2 glasses:\", min_k(100, 2))\n",
    "print(\"For 100 floors and 3 glasses:\", min_k(100, 3))    \n",
    "print(\"For 1000 floors and 5 glasses:\",min_k(1000, 5))"
   ]
  }
 ],
 "metadata": {
  "kernelspec": {
   "display_name": "Python 3",
   "language": "python",
   "name": "python3"
  },
  "language_info": {
   "codemirror_mode": {
    "name": "ipython",
    "version": 3
   },
   "file_extension": ".py",
   "mimetype": "text/x-python",
   "name": "python",
   "nbconvert_exporter": "python",
   "pygments_lexer": "ipython3",
   "version": "3.12.3"
  }
 },
 "nbformat": 4,
 "nbformat_minor": 5
}
