{
 "cells": [
  {
   "cell_type": "markdown",
   "id": "07beecc3",
   "metadata": {},
   "source": [
    "# Illya-BOICHUK-Camp-2025"
   ]
  },
  {
   "cell_type": "markdown",
   "id": "bdeeaeef",
   "metadata": {},
   "source": [
    "## Answer"
   ]
  },
  {
   "cell_type": "code",
   "execution_count": null,
   "id": "59be8601",
   "metadata": {},
   "outputs": [],
   "source": [
    "import pandas as pd\n",
    "from sklearn.model_selection import train_test_split\n",
    "\n",
    "with open(\"data/rt-polarity.neg\", \"r\", encoding=\"utf-8\", errors=\"ignore\") as f:\n",
    "    texts_neg = f.read().splitlines()\n",
    "with open(\"data/rt-polarity.pos\", \"r\", encoding=\"utf-8\", errors=\"ignore\") as f:\n",
    "    texts_pos = f.read().splitlines()\n",
    "\n",
    "data = pd.DataFrame({\n",
    "    \"text\": texts_neg + texts_pos,\n",
    "    \"label\": [0]*len(texts_neg) + [1]*len(texts_pos)\n",
    "})\n",
    "data = data.sample(frac=1, random_state=42).reset_index(drop=True)\n",
    "X_train, X_test, y_train, y_test = train_test_split(\n",
    "    data[\"text\"], data[\"label\"], test_size=0.2, stratify=data[\"label\"], random_state=42\n",
    ")\n"
   ]
  },
  {
   "cell_type": "markdown",
   "id": "55db23d3",
   "metadata": {},
   "source": [
    "### TF-IDF + Logistic Regression"
   ]
  },
  {
   "cell_type": "code",
   "execution_count": 10,
   "id": "4eaa28c8",
   "metadata": {},
   "outputs": [
    {
     "name": "stdout",
     "output_type": "stream",
     "text": [
      "TF-IDF + Logistic Regression\n",
      "Accuracy : 0.7595\n",
      "Precision: 0.7616\n",
      "Recall   : 0.7552\n",
      "F1-score : 0.7584\n"
     ]
    }
   ],
   "source": [
    "from sklearn.feature_extraction.text import TfidfVectorizer\n",
    "from sklearn.linear_model import LogisticRegression\n",
    "from sklearn.metrics import accuracy_score, precision_score, recall_score, f1_score\n",
    "\n",
    "tfidf = TfidfVectorizer(max_features=15000, ngram_range=(1, 2))\n",
    "X_train_tfidf = tfidf.fit_transform(X_train)\n",
    "X_test_tfidf = tfidf.transform(X_test)\n",
    "\n",
    "clf_lr = LogisticRegression(max_iter=1000)\n",
    "clf_lr.fit(X_train_tfidf, y_train)\n",
    "y_pred_lr = clf_lr.predict(X_test_tfidf)\n",
    "\n",
    "print(\"TF-IDF + Logistic Regression\")\n",
    "print(f\"Accuracy : {accuracy_score(y_test, y_pred_lr):.4f}\")\n",
    "print(f\"Precision: {precision_score(y_test, y_pred_lr):.4f}\")\n",
    "print(f\"Recall   : {recall_score(y_test, y_pred_lr):.4f}\")\n",
    "print(f\"F1-score : {f1_score(y_test, y_pred_lr):.4f}\")"
   ]
  },
  {
   "cell_type": "markdown",
   "id": "3d10c1b5",
   "metadata": {},
   "source": [
    "### CountVectorizer + MultinomialNB"
   ]
  },
  {
   "cell_type": "code",
   "execution_count": 11,
   "id": "8e232aec",
   "metadata": {},
   "outputs": [
    {
     "name": "stdout",
     "output_type": "stream",
     "text": [
      "CountVectorizer + MultinomialNB\n",
      "Accuracy : 0.7712\n",
      "Precision: 0.7867\n",
      "Recall   : 0.7439\n",
      "F1-score : 0.7647\n"
     ]
    }
   ],
   "source": [
    "from sklearn.feature_extraction.text import CountVectorizer\n",
    "from sklearn.naive_bayes import MultinomialNB\n",
    "from sklearn.metrics import accuracy_score, precision_score, recall_score, f1_score\n",
    "\n",
    "count_vec = CountVectorizer()\n",
    "X_train_count = count_vec.fit_transform(X_train)\n",
    "X_test_count = count_vec.transform(X_test)\n",
    "clf_nb = MultinomialNB()\n",
    "clf_nb.fit(X_train_count, y_train)\n",
    "y_pred_nb = clf_nb.predict(X_test_count)\n",
    "\n",
    "print(\"CountVectorizer + MultinomialNB\")\n",
    "print(f\"Accuracy : {accuracy_score(y_test, y_pred_nb):.4f}\")\n",
    "print(f\"Precision: {precision_score(y_test, y_pred_nb):.4f}\")\n",
    "print(f\"Recall   : {recall_score(y_test, y_pred_nb):.4f}\")\n",
    "print(f\"F1-score : {f1_score(y_test, y_pred_nb):.4f}\")"
   ]
  },
  {
   "cell_type": "markdown",
   "id": "f52ea89d",
   "metadata": {},
   "source": [
    "### BERT-based classifier (DistilBERT)"
   ]
  },
  {
   "cell_type": "code",
   "execution_count": 12,
   "id": "2d25b0fe",
   "metadata": {},
   "outputs": [
    {
     "name": "stderr",
     "output_type": "stream",
     "text": [
      "Device set to use cpu\n"
     ]
    },
    {
     "name": "stdout",
     "output_type": "stream",
     "text": [
      "BERT-based classifier (DistilBERT):\n",
      "Accuracy: 0.895\n",
      "Precision: 0.9130434782608695\n",
      "Recall: 0.865979381443299\n",
      "F1-score: 0.8888888888888888\n"
     ]
    }
   ],
   "source": [
    "from transformers import pipeline\n",
    "from sklearn.metrics import accuracy_score, precision_score, recall_score, f1_score\n",
    "\n",
    "classifier = pipeline(\"sentiment-analysis\", model=\"distilbert-base-uncased-finetuned-sst-2-english\")\n",
    "X_test_bert = X_test.iloc[:200]\n",
    "y_test_bert = y_test.iloc[:200]\n",
    "bert_preds = [1 if x['label'] == 'POSITIVE' else 0 for x in classifier(X_test_bert.tolist())]\n",
    "\n",
    "print(\"BERT-based classifier (DistilBERT):\")\n",
    "print(\"Accuracy:\", accuracy_score(y_test_bert, bert_preds))\n",
    "print(\"Precision:\", precision_score(y_test_bert, bert_preds))\n",
    "print(\"Recall:\", recall_score(y_test_bert, bert_preds))\n",
    "print(\"F1-score:\", f1_score(y_test_bert, bert_preds))\n"
   ]
  },
  {
   "cell_type": "markdown",
   "id": "45593cfa",
   "metadata": {},
   "source": [
    "### SpaCy Word Embeddings + Logistic Regression"
   ]
  },
  {
   "cell_type": "markdown",
   "id": "135d33bb",
   "metadata": {},
   "source": [
    "To avoid conflicts between the libraries, I launched this model from a second environment"
   ]
  },
  {
   "cell_type": "code",
   "execution_count": null,
   "id": "1579006e",
   "metadata": {},
   "outputs": [
    {
     "name": "stdout",
     "output_type": "stream",
     "text": [
      "SpaCy Word Embeddings + Logistic Regression\n",
      "Accuracy : 0.6650\n",
      "Precision: 0.6596\n",
      "Recall   : 0.6392\n",
      "F1-score : 0.6492\n"
     ]
    }
   ],
   "source": [
    "import spacy\n",
    "import numpy as np\n",
    "import pandas as pd\n",
    "from sklearn.metrics import accuracy_score, precision_score, recall_score, f1_score\n",
    "from sklearn.linear_model import LogisticRegression\n",
    "from sklearn.model_selection import train_test_split\n",
    "\n",
    "with open(\"data/rt-polarity.neg\", \"r\", encoding=\"utf-8\", errors=\"ignore\") as f:\n",
    "    texts_neg = f.read().splitlines()\n",
    "with open(\"data/rt-polarity.pos\", \"r\", encoding=\"utf-8\", errors=\"ignore\") as f:\n",
    "    texts_pos = f.read().splitlines()\n",
    "\n",
    "data = pd.DataFrame({\n",
    "    \"text\": texts_neg + texts_pos,\n",
    "    \"label\": [0]*len(texts_neg) + [1]*len(texts_pos)\n",
    "})\n",
    "data = data.sample(frac=1, random_state=42).reset_index(drop=True)\n",
    "X_train, X_test, y_train, y_test = train_test_split(\n",
    "    data[\"text\"], data[\"label\"], test_size=0.2, stratify=data[\"label\"], random_state=42\n",
    ")\n",
    "\n",
    "nlp = spacy.load(\"en_core_web_md\")\n",
    "def get_doc_vector(text):\n",
    "    return nlp(text).vector\n",
    "X_train_small = X_train.iloc[:1000]\n",
    "y_train_small = y_train.iloc[:1000]\n",
    "X_test_small = X_test.iloc[:200]\n",
    "y_test_small = y_test.iloc[:200]\n",
    "X_train_embed = np.vstack(X_train_small.apply(get_doc_vector))\n",
    "X_test_embed = np.vstack(X_test_small.apply(get_doc_vector))\n",
    "clf_embed = LogisticRegression(max_iter=1000)\n",
    "clf_embed.fit(X_train_embed, y_train_small)\n",
    "y_pred_embed = clf_embed.predict(X_test_embed)\n",
    "\n",
    "print(\"SpaCy Word Embeddings + Logistic Regression\")\n",
    "print(f\"Accuracy : {accuracy_score(y_test_small, y_pred_embed):.4f}\")\n",
    "print(f\"Precision: {precision_score(y_test_small, y_pred_embed):.4f}\")\n",
    "print(f\"Recall   : {recall_score(y_test_small, y_pred_embed):.4f}\")\n",
    "print(f\"F1-score : {f1_score(y_test_small, y_pred_embed):.4f}\")\n"
   ]
  },
  {
   "cell_type": "markdown",
   "id": "c9bca49c",
   "metadata": {},
   "source": [
    "### Transformer (BART) Zero-shot Classification"
   ]
  },
  {
   "cell_type": "code",
   "execution_count": 13,
   "id": "1a1748b0",
   "metadata": {},
   "outputs": [
    {
     "name": "stderr",
     "output_type": "stream",
     "text": [
      "Device set to use cpu\n"
     ]
    },
    {
     "name": "stdout",
     "output_type": "stream",
     "text": [
      "Transformer (BART) Zero-shot Classification\n",
      "Accuracy : 0.9000\n",
      "Precision: 0.8571\n",
      "Recall   : 0.8571\n",
      "F1-score : 0.8571\n"
     ]
    }
   ],
   "source": [
    "from transformers import pipeline\n",
    "from sklearn.metrics import accuracy_score, precision_score, recall_score, f1_score\n",
    "\n",
    "classifier_bart = pipeline(\"zero-shot-classification\", model=\"facebook/bart-large-mnli\", device=-1)\n",
    "labels = [\"positive\", \"negative\"]\n",
    "X_test_bart = X_test.iloc[:20]\n",
    "y_test_bart = y_test.iloc[:20].values\n",
    "y_pred_bart = []\n",
    "for text in X_test_bart:\n",
    "    result = classifier_bart(text, candidate_labels=labels)\n",
    "    pred = 1 if result[\"labels\"][0] == \"positive\" else 0\n",
    "    y_pred_bart.append(pred)\n",
    "\n",
    "print(\"Transformer (BART) Zero-shot Classification\")\n",
    "print(f\"Accuracy : {accuracy_score(y_test_bart, y_pred_bart):.4f}\")\n",
    "print(f\"Precision: {precision_score(y_test_bart, y_pred_bart):.4f}\")\n",
    "print(f\"Recall   : {recall_score(y_test_bart, y_pred_bart):.4f}\")\n",
    "print(f\"F1-score : {f1_score(y_test_bart, y_pred_bart):.4f}\")\n"
   ]
  },
  {
   "cell_type": "markdown",
   "id": "5276acc7",
   "metadata": {},
   "source": [
    "### Evaluation of models"
   ]
  },
  {
   "cell_type": "code",
   "execution_count": 14,
   "id": "f966addd",
   "metadata": {},
   "outputs": [
    {
     "name": "stdout",
     "output_type": "stream",
     "text": [
      "                         Model  Accuracy  Precision  Recall  F1-score\n",
      "0                  TF-IDF + LR    0.7595     0.7616  0.7552    0.7584\n",
      "1         CountVectorizer + NB    0.7712     0.7867  0.7439    0.7647\n",
      "2  BERT Sentiment (DistilBERT)    0.8950     0.9130  0.8660    0.8889\n",
      "3        spaCy Embeddings + LR    0.6650     0.6596  0.6392    0.6492\n",
      "4               Zero-shot BART    0.9000     0.8571  0.8571    0.8571\n"
     ]
    }
   ],
   "source": [
    "results = pd.DataFrame({\n",
    "    \"Model\": [\n",
    "        \"TF-IDF + LR\", \n",
    "        \"CountVectorizer + NB\", \n",
    "        \"BERT Sentiment (DistilBERT)\", \n",
    "        \"spaCy Embeddings + LR\", \n",
    "        \"Zero-shot BART\"\n",
    "    ],\n",
    "\n",
    "    \"Accuracy\": [\n",
    "        accuracy_score(y_test, y_pred_lr),\n",
    "        accuracy_score(y_test, y_pred_nb),\n",
    "        accuracy_score(y_test_bert, bert_preds),\n",
    "        0.6650,\n",
    "        accuracy_score(y_test_bart, y_pred_bart)\n",
    "    ],\n",
    "\n",
    "    \"Precision\": [\n",
    "        precision_score(y_test, y_pred_lr),\n",
    "        precision_score(y_test, y_pred_nb),\n",
    "        precision_score(y_test_bert, bert_preds),\n",
    "        0.6596,\n",
    "        precision_score(y_test_bart, y_pred_bart)\n",
    "    ],\n",
    "\n",
    "    \"Recall\": [\n",
    "        recall_score(y_test, y_pred_lr),\n",
    "        recall_score(y_test, y_pred_nb),\n",
    "        recall_score(y_test_bert, bert_preds),\n",
    "        0.6392,\n",
    "        recall_score(y_test_bart, y_pred_bart)\n",
    "    ],\n",
    "\n",
    "    \"F1-score\": [\n",
    "        f1_score(y_test, y_pred_lr),\n",
    "        f1_score(y_test, y_pred_nb),\n",
    "        f1_score(y_test_bert, bert_preds),\n",
    "        0.6492,\n",
    "        f1_score(y_test_bart, y_pred_bart)\n",
    "    ]\n",
    "})\n",
    "print(results.round(4))"
   ]
  },
  {
   "cell_type": "markdown",
   "id": "e017effd",
   "metadata": {},
   "source": [
    "The Zero-shot BART model showed the highest accuracy of 0.9000, as well as balanced precision, recall and F1-measure values of 0.8571. This proves its effectiveness even without preliminary training on a specific dataset. The BERT Sentiment model (DistilBERT) also showed very good results (accuracy 0.8950, F1-measure 0.8889), which confirms the power of transformational approaches in natural language processing tasks.\n",
    "\n",
    "Among the traditional models, CountVectorizer + Naive Bayes was the best performer, achieving an accuracy of 0.7712 and an F1-measure of 0.7647. It outperformed TF-IDF + Logistic Regression with an accuracy of 0.7595 and an F1-measure of 0.7584. This may indicate that for this dataset, simple word frequency counting is slightly more efficient than the weighted TF-IDF transformation.\n",
    "\n",
    "The spaCy Embeddings + Logistic Regression model showed the worst results, with an accuracy of 0.6650 and an F1-measure of 0.6492. This may be due to the limited ability of weighted average embeddings to capture complex contextual information compared to transformers."
   ]
  }
 ],
 "metadata": {
  "kernelspec": {
   "display_name": "Python 3",
   "language": "python",
   "name": "python3"
  },
  "language_info": {
   "codemirror_mode": {
    "name": "ipython",
    "version": 3
   },
   "file_extension": ".py",
   "mimetype": "text/x-python",
   "name": "python",
   "nbconvert_exporter": "python",
   "pygments_lexer": "ipython3",
   "version": "3.12.3"
  }
 },
 "nbformat": 4,
 "nbformat_minor": 5
}
