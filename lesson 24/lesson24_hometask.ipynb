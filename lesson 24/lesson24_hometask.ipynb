{
 "cells": [
  {
   "cell_type": "markdown",
   "id": "07beecc3",
   "metadata": {},
   "source": [
    "# Illya-BOICHUK-Camp-2025"
   ]
  },
  {
   "cell_type": "markdown",
   "id": "f1e0a639",
   "metadata": {},
   "source": [
    "## Answer\n",
    "\n",
    "I downloaded the data sets from Kaggle: https://www.kaggle.com/code/cdeotte/25-million-images-0-99757-mnist/notebook"
   ]
  },
  {
   "cell_type": "markdown",
   "id": "ac6161c2",
   "metadata": {},
   "source": [
    "### 1 Import"
   ]
  },
  {
   "cell_type": "code",
   "execution_count": 19,
   "id": "dea7706b",
   "metadata": {},
   "outputs": [],
   "source": [
    "import torch\n",
    "import torch.nn as nn\n",
    "import torch.optim as optim\n",
    "from torch.utils.data import DataLoader, Dataset\n",
    "from torchvision import transforms\n",
    "from sklearn.model_selection import train_test_split\n",
    "from tqdm import tqdm\n",
    "import random\n",
    "import pandas as pd\n",
    "import numpy as np\n",
    "import matplotlib.pyplot as plt"
   ]
  },
  {
   "cell_type": "markdown",
   "id": "db31b3a7",
   "metadata": {},
   "source": [
    "### 2 Config variables"
   ]
  },
  {
   "cell_type": "code",
   "execution_count": 20,
   "id": "e6294e66",
   "metadata": {},
   "outputs": [],
   "source": [
    "device = 'cpu'\n",
    "\n",
    "input_size = 28 * 28\n",
    "hidden_size = 512\n",
    "num_classes = 10\n",
    "learning_rate = 0.001\n",
    "batch_size = 64\n",
    "num_epochs = 5"
   ]
  },
  {
   "cell_type": "markdown",
   "id": "6492739b",
   "metadata": {},
   "source": [
    "### 3 Read and prepare data"
   ]
  },
  {
   "cell_type": "code",
   "execution_count": 21,
   "id": "1ba41ead",
   "metadata": {},
   "outputs": [
    {
     "name": "stdout",
     "output_type": "stream",
     "text": [
      "mean: 0.13109311\n",
      "std: 0.30862153\n"
     ]
    }
   ],
   "source": [
    "df = pd.read_csv('data/train.csv')\n",
    "test_df = pd.read_csv('data/test.csv')\n",
    "\n",
    "train_df, val_df = train_test_split(df, test_size=0.2, random_state=42, stratify=df['label'])\n",
    "\n",
    "images = train_df.drop('label', axis=1).values\n",
    "images = images.astype(np.float32) / 255.0\n",
    "all_images = images.reshape(-1, 1, 28, 28)\n",
    "\n",
    "mean = np.mean(all_images)\n",
    "std = np.std(all_images)\n",
    "\n",
    "print('mean:', mean)\n",
    "print('std:', std)"
   ]
  },
  {
   "cell_type": "markdown",
   "id": "ce7e90f6",
   "metadata": {},
   "source": [
    "### 4 Custom Dataset"
   ]
  },
  {
   "cell_type": "code",
   "execution_count": 22,
   "id": "2571edcf",
   "metadata": {},
   "outputs": [],
   "source": [
    "class CustomMNIST(Dataset):\n",
    "    def __init__(self, dataframe, transform=None):\n",
    "        self.data = dataframe\n",
    "        self.transform = transform\n",
    "        self.has_label = 'label' in self.data.columns\n",
    "        if self.has_label:\n",
    "            self.labels = self.data['label'].values\n",
    "            self.images = self.data.drop('label', axis=1).values.reshape(-1, 1, 28, 28).astype(np.float32) / 255.0\n",
    "        else:\n",
    "            self.images = self.data.values.reshape(-1, 1, 28, 28).astype(np.float32) / 255.0\n",
    "\n",
    "    def __len__(self):\n",
    "        return len(self.data)\n",
    "\n",
    "    def __getitem__(self, idx):\n",
    "        image = self.images[idx]\n",
    "        image = torch.tensor(image, dtype=torch.float32)\n",
    "        if self.transform:\n",
    "            image = self.transform(image)\n",
    "        if self.has_label:\n",
    "            label = self.labels[idx]\n",
    "            return image, label\n",
    "        else:\n",
    "            return image"
   ]
  },
  {
   "cell_type": "code",
   "execution_count": 23,
   "id": "4e7c5f01",
   "metadata": {},
   "outputs": [],
   "source": [
    "train_transform = transforms.Compose([\n",
    "    transforms.RandomRotation(10),\n",
    "    transforms.RandomAffine(degrees=0, translate=(0.1, 0.1), scale=(0.9, 1.1)),\n",
    "    transforms.Normalize((mean,), (std,))\n",
    "])\n",
    "test_transform = transforms.Compose([\n",
    "    transforms.Normalize((mean,), (std,))\n",
    "])\n",
    "\n",
    "train_dataset = CustomMNIST(train_df, transform=train_transform)\n",
    "val_dataset = CustomMNIST(val_df, transform=test_transform)\n",
    "test_dataset = CustomMNIST(test_df, transform=test_transform)\n",
    "\n",
    "train_loader = DataLoader(train_dataset, batch_size=batch_size, shuffle=True)\n",
    "val_loader = DataLoader(val_dataset, batch_size=batch_size, shuffle=False)\n",
    "test_loader = DataLoader(test_dataset, batch_size=batch_size, shuffle=False)"
   ]
  },
  {
   "cell_type": "markdown",
   "id": "864be3ba",
   "metadata": {},
   "source": [
    "### 5 MNIST Model "
   ]
  },
  {
   "cell_type": "code",
   "execution_count": 24,
   "id": "55234a00",
   "metadata": {},
   "outputs": [],
   "source": [
    "class MNISTModel(nn.Module):\n",
    "    def __init__(self, input_size, hidden_size, num_classes):\n",
    "        super().__init__()\n",
    "        self.flatten = nn.Flatten()\n",
    "        self.linear_relu_stack = nn.Sequential(\n",
    "            nn.Linear(input_size, hidden_size),\n",
    "            nn.ReLU(),\n",
    "            nn.Linear(hidden_size, hidden_size),\n",
    "            nn.ReLU(),\n",
    "            nn.Linear(hidden_size, num_classes),\n",
    "        )\n",
    "    \n",
    "    def forward(self, x):\n",
    "        x = self.flatten(x)\n",
    "        logits = self.linear_relu_stack(x)\n",
    "        return logits"
   ]
  },
  {
   "cell_type": "code",
   "execution_count": 25,
   "id": "e639c693",
   "metadata": {},
   "outputs": [],
   "source": [
    "model = MNISTModel(input_size, hidden_size, num_classes).to(device)\n",
    "loss_fn = nn.CrossEntropyLoss()\n",
    "optimizer = optim.Adam(model.parameters(), lr=learning_rate)"
   ]
  },
  {
   "cell_type": "markdown",
   "id": "dc8cbeb9",
   "metadata": {},
   "source": [
    "#### 5.1 Define function"
   ]
  },
  {
   "cell_type": "code",
   "execution_count": 26,
   "id": "809dc505",
   "metadata": {},
   "outputs": [],
   "source": [
    "def train_loop(dataloader, model, loss_fn, optimizer, epoch):\n",
    "    model.train()\n",
    "    running_loss = correct = total = 0\n",
    "    tqdm_loader = tqdm(dataloader, unit=\"batch\", desc=f\"Epoch {epoch+1}/{num_epochs}\")\n",
    "    for batch, (X, y) in enumerate(tqdm_loader):\n",
    "        X, y = X.to(device), y.to(device)\n",
    "        pred = model(X)\n",
    "        loss = loss_fn(pred, y)\n",
    "        loss.backward()\n",
    "        optimizer.step()\n",
    "        optimizer.zero_grad()\n",
    "        running_loss += loss.item()\n",
    "        _, predicted = torch.max(pred.data, 1)\n",
    "        total += y.size(0)\n",
    "        correct += (predicted == y).sum().item()\n",
    "        if batch % 100 == 0:\n",
    "            tqdm_loader.set_postfix(loss=loss.item())\n",
    "    return running_loss / len(dataloader), 100 * correct / total\n",
    "\n",
    "def test_loop(dataloader, model, loss_fn):\n",
    "    model.eval()\n",
    "    size = len(dataloader.dataset)\n",
    "    num_batches = len(dataloader)\n",
    "    test_loss, correct = 0, 0\n",
    "    with torch.no_grad():\n",
    "        for X, y in dataloader:\n",
    "            X, y = X.to(device), y.to(device)\n",
    "            pred = model(X)\n",
    "            test_loss += loss_fn(pred, y).item()\n",
    "            correct += (pred.argmax(1) == y).type(torch.float).sum().item()\n",
    "    test_loss /= num_batches\n",
    "    correct /= size\n",
    "    return test_loss, 100 * correct"
   ]
  },
  {
   "cell_type": "markdown",
   "id": "771a0a34",
   "metadata": {},
   "source": [
    "#### 5.2 Train model"
   ]
  },
  {
   "cell_type": "code",
   "execution_count": 27,
   "id": "c61d2049",
   "metadata": {},
   "outputs": [
    {
     "name": "stdout",
     "output_type": "stream",
     "text": [
      "------------------------------------------------------------\n"
     ]
    },
    {
     "name": "stderr",
     "output_type": "stream",
     "text": [
      "Epoch 1/5: 100%|██████████| 525/525 [00:58<00:00,  8.98batch/s, loss=0.224]\n"
     ]
    },
    {
     "name": "stdout",
     "output_type": "stream",
     "text": [
      "Epoch [1/5], Train Loss: 0.5063, Train Acc: 83.93%, Val Loss: 0.1725, Val Acc: 94.48%\n"
     ]
    },
    {
     "name": "stderr",
     "output_type": "stream",
     "text": [
      "Epoch 2/5: 100%|██████████| 525/525 [00:59<00:00,  8.80batch/s, loss=0.222]\n"
     ]
    },
    {
     "name": "stdout",
     "output_type": "stream",
     "text": [
      "Epoch [2/5], Train Loss: 0.2346, Train Acc: 92.49%, Val Loss: 0.1075, Val Acc: 96.68%\n"
     ]
    },
    {
     "name": "stderr",
     "output_type": "stream",
     "text": [
      "Epoch 3/5: 100%|██████████| 525/525 [01:03<00:00,  8.23batch/s, loss=0.0813]\n"
     ]
    },
    {
     "name": "stdout",
     "output_type": "stream",
     "text": [
      "Epoch [3/5], Train Loss: 0.1862, Train Acc: 94.21%, Val Loss: 0.0995, Val Acc: 96.89%\n"
     ]
    },
    {
     "name": "stderr",
     "output_type": "stream",
     "text": [
      "Epoch 4/5: 100%|██████████| 525/525 [01:04<00:00,  8.16batch/s, loss=0.158] \n"
     ]
    },
    {
     "name": "stdout",
     "output_type": "stream",
     "text": [
      "Epoch [4/5], Train Loss: 0.1610, Train Acc: 94.91%, Val Loss: 0.0817, Val Acc: 97.52%\n"
     ]
    },
    {
     "name": "stderr",
     "output_type": "stream",
     "text": [
      "Epoch 5/5: 100%|██████████| 525/525 [01:03<00:00,  8.27batch/s, loss=0.0751]\n"
     ]
    },
    {
     "name": "stdout",
     "output_type": "stream",
     "text": [
      "Epoch [5/5], Train Loss: 0.1449, Train Acc: 95.32%, Val Loss: 0.0769, Val Acc: 97.60%\n",
      "------------------------------------------------------------\n",
      "\n",
      "Epoch Progress:\n",
      "Epoch | Train Loss | Val Loss | Train Acc | Val Acc\n",
      "    1 |     0.5063 |    0.1725 |     83.93 |    94.48\n",
      "    2 |     0.2346 |    0.1075 |     92.49 |    96.68\n",
      "    3 |     0.1862 |    0.0995 |     94.21 |    96.89\n",
      "    4 |     0.1610 |    0.0817 |     94.91 |    97.52\n",
      "    5 |     0.1449 |    0.0769 |     95.32 |    97.60\n",
      "------------------------------------------------------------\n"
     ]
    }
   ],
   "source": [
    "train_losses, train_accuracies, val_losses, val_accuracies = [], [], [], []\n",
    "\n",
    "print(\"-\" * 60)\n",
    "for epoch in range(num_epochs):\n",
    "    train_loss, train_acc = train_loop(train_loader, model, loss_fn, optimizer, epoch)\n",
    "    val_loss, val_acc = test_loop(val_loader, model, loss_fn)\n",
    "    train_losses.append(train_loss)\n",
    "    train_accuracies.append(train_acc)\n",
    "    val_losses.append(val_loss)\n",
    "    val_accuracies.append(val_acc)\n",
    "    print(f\"Epoch [{epoch+1}/{num_epochs}], Train Loss: {train_loss:.4f}, Train Acc: {train_acc:.2f}%, Val Loss: {val_loss:.4f}, Val Acc: {val_acc:.2f}%\")\n",
    "\n",
    "print(\"-\" * 60)\n",
    "print(\"\\nEpoch Progress:\")\n",
    "print(\"Epoch | Train Loss | Val Loss | Train Acc | Val Acc\")\n",
    "for i in range(num_epochs):\n",
    "    print(f\"{i+1:5d} | {train_losses[i]:10.4f} | {val_losses[i]:9.4f} | {train_accuracies[i]:9.2f} | {val_accuracies[i]:8.2f}\")\n",
    "print(\"-\" * 60)"
   ]
  },
  {
   "cell_type": "markdown",
   "id": "484ce5d2",
   "metadata": {},
   "source": [
    "### 6 Testing visualization"
   ]
  },
  {
   "cell_type": "code",
   "execution_count": 28,
   "id": "7662a183",
   "metadata": {},
   "outputs": [
    {
     "data": {
      "image/png": "[encoded data removed]",
      "text/plain": [
       "<Figure size 1000x500 with 10 Axes>"
      ]
     },
     "metadata": {},
     "output_type": "display_data"
    }
   ],
   "source": [
    "model.eval()\n",
    "test_samples = random.sample(range(len(test_dataset)), 10)\n",
    "predictions = []\n",
    "fig, axes = plt.subplots(2, 5, figsize=(10, 5))\n",
    "with torch.no_grad():\n",
    "    for i, idx in enumerate(test_samples):\n",
    "        image = test_dataset[idx]\n",
    "        image_input = image.unsqueeze(0).to(device)\n",
    "        output = model(image_input)\n",
    "        _, predicted = torch.max(output.data, 1)\n",
    "        predictions.append((predicted.item()))\n",
    "        image = image.squeeze().numpy() * std + mean\n",
    "        ax = axes[i // 5, i % 5]\n",
    "        ax.imshow(image, cmap='gray')\n",
    "        ax.set_title(f'Pred: {predicted.item()}')\n",
    "        ax.axis('off')\n",
    "plt.tight_layout()\n",
    "plt.show()"
   ]
  },
  {
   "cell_type": "markdown",
   "id": "5ec3ec86",
   "metadata": {},
   "source": [
    "### 7 Save model"
   ]
  },
  {
   "cell_type": "code",
   "execution_count": null,
   "id": "62364f9d",
   "metadata": {},
   "outputs": [],
   "source": [
    "torch.save(model.state_dict(), 'mnist_model.pth')"
   ]
  }
 ],
 "metadata": {
  "kernelspec": {
   "display_name": "base",
   "language": "python",
   "name": "python3"
  },
  "language_info": {
   "codemirror_mode": {
    "name": "ipython",
    "version": 3
   },
   "file_extension": ".py",
   "mimetype": "text/x-python",
   "name": "python",
   "nbconvert_exporter": "python",
   "pygments_lexer": "ipython3",
   "version": "3.12.7"
  }
 },
 "nbformat": 4,
 "nbformat_minor": 5
}
